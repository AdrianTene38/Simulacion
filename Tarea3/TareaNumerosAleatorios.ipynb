{
 "cells": [
  {
   "cell_type": "markdown",
   "metadata": {},
   "source": [
    "\n",
    "**Nombre**\n",
    " - Adrian Tene\n",
    " \n",
    "**Ejercicio en Clase Numeros Aleaotrios**"
   ]
  },
  {
   "cell_type": "code",
   "execution_count": 7,
   "metadata": {},
   "outputs": [
    {
     "name": "stdout",
     "output_type": "stream",
     "text": [
      "Ingrese el valor de r: 3\n",
      "Ingrese el valor de q: 5\n",
      "\n",
      " It. \t Base 2 \t Base 10 \t Ui \n",
      "\n",
      "0 \t 1 1 1 1 \t 15 \t \t 0.9375\n",
      "1 \t 1 0 0 0 \t 8 \t \t 0.5\n",
      "2 \t 1 1 0 1 \t 13 \t \t 0.8125\n",
      "3 \t 1 1 0 1 \t 13 \t \t 0.8125\n",
      "4 \t 0 1 0 0 \t 4 \t \t 0.25\n",
      "5 \t 0 0 1 0 \t 2 \t \t 0.125\n",
      "6 \t 0 1 0 1 \t 5 \t \t 0.3125\n",
      "7 \t 1 0 0 1 \t 9 \t \t 0.5625\n",
      "8 \t 1 1 1 1 \t 15 \t \t 0.9375\n"
     ]
    }
   ],
   "source": [
    "#Creacion de numeros aleatorios\n",
    "from itertools import zip_longest\n",
    "\n",
    "r = int(input(\"Ingrese el valor de r: \"))\n",
    "q = int(input(\"Ingrese el valor de q: \"))\n",
    "# r debe ser menor que q\n",
    "#Operacion XOR\n",
    "def operacionXOR(a,b):\n",
    "  ab = 1\n",
    "  if a  == b:\n",
    "    ab = 0\n",
    "  return ab\n",
    "#Se define la cantidad de bits, interacciones debe ir mas de 4 \n",
    "bits = []\n",
    "b = (2**q) - 1\n",
    "#ARRAY hasta los numeros segun la formuka de b = (2**q) - 1\n",
    "for i in range(0,b):\n",
    "  bits.append(0)\n",
    "\n",
    "#Inserta1 segun el numero de q\n",
    "for i in range(0,q):\n",
    "  bits[i] = 1\n",
    "  bits.append(1)\n",
    "#Resta de posicion  se realiza la operacion XOR de posiciones\n",
    "#se agrega posiciones\n",
    "a = q+1\n",
    "for i in range(a,len(bits)):\n",
    "  i1 = i - r\n",
    "  i2 = i - q\n",
    "  bits[i] = operacionXOR(bits[i1],bits[i2])\n",
    "\n",
    "#Se transfrma de binario a decimal p es tres por 4 bits\n",
    "def binaryToDecimal(binario):\n",
    "  a = 0\n",
    "  p = 3\n",
    "  for i in range(0,len(binario)):\n",
    "    if binario[i] == 1:\n",
    "      a += 2**(p-i)\n",
    "  return a\n",
    "test_list = bits\n",
    "\n",
    "#Se itera el array de 4 en 4\n",
    "def group_elements(n, iterable, padvalue='1'):\n",
    "    return zip_longest(*[iter(iterable)]*n, fillvalue=padvalue)\n",
    "\n",
    "print(\"\\n\",\"It.\", \"\\t\", \"Base 2\", \"\\t\",\"Base 10\",\"\\t\",\"Ui\",\"\\n\")\n",
    "d = 0\n",
    "for output in group_elements(4,test_list):\n",
    "    lst_new = [str(a) for a in output]\n",
    "#Binarios, Decimales,decimales/16 para el valor de U\n",
    "    print(d,\"\\t\" ,\" \".join(lst_new), \"\\t\", binaryToDecimal(output), \"\\t\", \"\\t\", binaryToDecimal(output)/16)\n",
    "    d +=1"
   ]
  },
  {
   "cell_type": "code",
   "execution_count": null,
   "metadata": {},
   "outputs": [],
   "source": []
  }
 ],
 "metadata": {
  "kernelspec": {
   "display_name": "Python 3",
   "language": "python",
   "name": "python3"
  },
  "language_info": {
   "codemirror_mode": {
    "name": "ipython",
    "version": 3
   },
   "file_extension": ".py",
   "mimetype": "text/x-python",
   "name": "python",
   "nbconvert_exporter": "python",
   "pygments_lexer": "ipython3",
   "version": "3.7.6"
  }
 },
 "nbformat": 4,
 "nbformat_minor": 4
}
